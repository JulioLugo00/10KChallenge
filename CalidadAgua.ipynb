{
  "nbformat": 4,
  "nbformat_minor": 0,
  "metadata": {
    "colab": {
      "provenance": []
    },
    "kernelspec": {
      "name": "python3",
      "display_name": "Python 3"
    },
    "language_info": {
      "name": "python"
    },
    "accelerator": "GPU",
    "gpuClass": "standard"
  },
  "cells": [
    {
      "cell_type": "code",
      "execution_count": 20,
      "metadata": {
        "id": "EKRG8Y9-R0oq"
      },
      "outputs": [],
      "source": [
        "import pandas as pd\n",
        "import numpy as np\n",
        "import tensorflow as tf"
      ]
    },
    {
      "cell_type": "code",
      "source": [
        "data_calidad = pd.read_excel(\"Calidad del Agua Superficial a.xlsx\")  #Ingresa la base de datos\n",
        "print(data_calidad.head())"
      ],
      "metadata": {
        "id": "FHFEGaijXy6k",
        "colab": {
          "base_uri": "https://localhost:8080/"
        },
        "outputId": "62e236e5-e0c1-427d-a58a-a0e646365ebc"
      },
      "execution_count": 41,
      "outputs": [
        {
          "output_type": "stream",
          "name": "stdout",
          "text": [
            "            CLAVE                                        SITIO  \\\n",
            "0  DLAGU0001RNL21                      PRESA NATILLAS DE ABAJO   \n",
            "1  DLAGU0002RNL21                             PRESA EL JOCOQUI   \n",
            "2  DLAGU0003RNL21                    BORDO SANTA ELENA CORTINA   \n",
            "3  DLAGU0004RNL21  HUMEDAL BUENAVISA DE PEÑUELAS  CHARCA NO. 5   \n",
            "4  DLAGU0005RNL21                            PRESA PEÑA BLANCA   \n",
            "\n",
            "       ORGANISMO_DE_CUENCA          ESTADO        MUNICIPIO            CUENCA  \\\n",
            "0  LERMA SANTIAGO PACIFICO  AGUASCALIENTES            COSIO     RÍO SAN PEDRO   \n",
            "1  LERMA SANTIAGO PACIFICO  AGUASCALIENTES  RINCÓN DE ROMOS     RÍO SAN PEDRO   \n",
            "2  LERMA SANTIAGO PACIFICO  AGUASCALIENTES   AGUASCALIENTES  PRESA EL NIÁGARA   \n",
            "3  LERMA SANTIAGO PACIFICO  AGUASCALIENTES   AGUASCALIENTES    PRESA AJOJUCAR   \n",
            "4  LERMA SANTIAGO PACIFICO  AGUASCALIENTES         CALVILLO   RÍO JUCHIPILA 1   \n",
            "\n",
            "            CUERPO DE AGUA     TIPO  SUBTIPO    LONGITUD  ...  CONTAMINANTES  \\\n",
            "0  PRESA NATILLAS DE ABAJO  LÉNTICO    PRESA -102.313900  ...           DQO,   \n",
            "1         PRESA EL JOCOQUI  LÉNTICO    PRESA -102.360900  ...            NaN   \n",
            "2         PRESA EL JOCOQUI  LÉNTICO    PRESA -102.250300  ...           DQO,   \n",
            "3        PRESA SANTA ELENA  LÉNTICO  HUMEDAL -102.300129  ...           DQO,   \n",
            "4        HUMEDAL BUENAVISA  LÉNTICO    PRESA -102.751972  ...           DQO,   \n",
            "\n",
            "   CUMPLE_CON_DBO CUMPLE_CON_DQO CUMPLE_CON_SST CUMPLE_CON_CF  \\\n",
            "0              SI             NO             SI            ND   \n",
            "1              SI             SI             SI            ND   \n",
            "2              SI             NO             SI            ND   \n",
            "3              SI             NO             SI            ND   \n",
            "4              SI             NO             SI            ND   \n",
            "\n",
            "  CUMPLE_CON_E_COLI CUMPLE_CON_ENTEROC CUMPLE_CON_OD CUMPLE_CON_TOX    GRUPO  \n",
            "0                ND                 ND            ND             SI  LENTICO  \n",
            "1                ND                 ND            ND             SI  LENTICO  \n",
            "2                ND                 ND            ND             SI  LENTICO  \n",
            "3                ND                 ND            ND             SI  LENTICO  \n",
            "4                ND                 ND            ND             SI  LENTICO  \n",
            "\n",
            "[5 rows x 55 columns]\n"
          ]
        }
      ]
    },
    {
      "cell_type": "code",
      "source": [
        "semaforo = data_calidad[\"SEMAFORO\"].tolist() #Se saca la variable semaforo y se convierte a lista"
      ],
      "metadata": {
        "id": "KzbetkAcVDk_"
      },
      "execution_count": 43,
      "outputs": []
    },
    {
      "cell_type": "code",
      "source": [
        "values = []\n",
        "values = [0 if value == \"Verde\" else (1 if value == \"Amarillo\" else 2) for value in semaforo]   #Se transforma de string categorico a categorico numerico"
      ],
      "metadata": {
        "id": "fIBtg2ViVOUl"
      },
      "execution_count": 55,
      "outputs": []
    },
    {
      "cell_type": "code",
      "source": [
        "print(values)"
      ],
      "metadata": {
        "colab": {
          "base_uri": "https://localhost:8080/"
        },
        "id": "6ZHYaVb-VpkR",
        "outputId": "ec7e2735-6ac0-43e3-8eda-390b6c59a591"
      },
      "execution_count": 56,
      "outputs": [
        {
          "output_type": "stream",
          "name": "stdout",
          "text": [
            "[2, 0, 2, 2, 2, 0, 2, 2, 2, 0, 2, 0, 1, 1, 0, 0, 0, 0, 0, 0, 0, 0, 0, 0, 0, 0, 2, 1, 1, 2, 0, 2, 2, 2, 2, 2, 0, 2, 2, 2, 2, 0, 1, 1, 1, 1, 1, 2, 1, 1, 0, 1, 0, 1, 1, 1, 0, 0, 0, 1, 0, 0, 0, 1, 0, 0, 1, 0, 0, 2, 0, 2, 0, 0, 2, 0, 0, 2, 0, 0, 1, 2, 2, 1, 0, 0, 0, 0, 1, 0, 0, 1, 1, 1, 1, 0, 0, 0, 0, 1, 1, 2, 0, 0, 0, 1, 0, 0, 0, 0, 2, 2, 2, 2, 2, 2, 2, 2, 2, 2, 2, 2, 2, 1, 1, 2, 2, 2, 0, 0, 0, 0, 1, 0, 1, 1, 0, 0, 0, 0, 0, 0, 0, 0, 0, 0, 0, 2, 2, 2, 2, 2, 2, 2, 2, 2, 2, 2, 2, 2, 2, 2, 2, 2, 2, 2, 2, 2, 0, 2, 0, 1, 2, 0, 1, 1, 0, 0, 0, 1, 0, 1, 2, 0, 1, 0, 1, 1, 1, 1, 1, 1, 0, 1, 2, 1, 1, 1, 1, 2, 0, 0, 1, 0, 1, 0, 0, 1, 0, 1, 1, 1, 1, 1, 1, 0, 0, 2, 2, 1, 1, 0, 0, 1, 0, 0, 0, 0, 2, 1, 1, 0, 1, 0, 1, 1, 1, 2, 2, 2, 2, 2, 2, 2, 2, 2, 2, 2, 2, 2, 0, 2, 2, 2, 2, 2, 2, 2, 2, 2, 2, 2, 2, 2, 2, 2, 2, 2, 2, 2, 2, 2, 2, 2, 2, 2, 2, 2, 2, 2, 2, 2, 0, 2, 0, 1, 2, 2, 0, 0, 0, 0, 0, 0, 0, 0, 0, 0, 0, 0, 0, 0, 0, 0, 0, 0, 0, 0, 0, 0, 0, 0, 0, 0, 0, 0, 0, 0, 0, 0, 0, 0, 0, 0, 0, 0, 0, 0, 0, 0, 0, 0, 0, 0, 0, 1, 0, 0, 2, 0, 2, 1, 2, 1, 0, 0, 0, 0, 0, 0, 0, 1, 2, 1, 2, 0, 1, 1, 1, 1, 1, 1, 1, 1, 2, 1, 1, 1, 1, 1, 1, 2, 2, 2, 2, 2, 2, 2, 2, 2, 2, 2, 2, 2, 2, 2, 2, 2, 2, 2, 2, 2, 2, 2, 0, 0, 0, 2, 2, 2, 2, 2, 2, 1, 0, 0, 0, 2, 2, 2, 2, 0, 0, 0, 1, 0, 2, 0, 1, 2, 2, 2, 2, 2, 2, 2, 2, 2, 2, 0, 2, 2, 2, 2, 2, 0, 0, 0, 1, 0, 2, 2, 0, 2, 1, 1, 0, 1, 1, 1, 2, 1, 2, 1, 1, 1, 2, 0, 1, 2, 2, 1, 1, 2, 2, 2, 2, 2, 1, 1, 1, 2, 2, 0, 0, 1, 1, 0, 0, 2, 1, 1, 2, 0, 0, 2, 2, 1, 2, 0, 2, 1, 0, 0, 0, 0, 2, 1, 1, 1, 1, 2, 2, 2, 2, 1, 2, 2, 2, 2, 2, 2, 2, 2, 2, 2, 2, 2, 2, 2, 0, 0, 2, 0, 0, 2, 0, 0, 0, 2, 0, 2, 0, 0, 0, 2, 1, 2, 2, 2, 2, 1, 2, 2, 2, 2, 2, 1, 2, 1, 1, 1, 1, 2, 2, 1, 0, 2, 1, 2, 0, 2, 2, 0, 2, 1, 0, 2, 2, 1, 2, 2, 0, 2, 2, 2, 1, 2, 2, 2, 2, 1, 2, 2, 1, 2, 2, 0, 1, 2, 1, 2, 2, 0, 1, 2, 1, 2, 2, 1, 0, 2, 0, 0, 0, 1, 1, 2, 2, 1, 0, 0, 1, 0, 1, 1, 0, 2, 2, 2, 0, 2, 2, 2, 0, 2, 0, 1, 1, 2, 2, 2, 2, 0, 1, 0, 0, 0, 0, 0, 0, 0, 0, 0, 0, 0, 0, 0, 1, 0, 0, 1, 1, 0, 0, 0, 0, 0, 0, 0, 0, 0, 1, 1, 0, 0, 1, 0, 0, 1, 1, 0, 0, 0, 0, 0, 0, 0, 0, 1, 1, 2, 0, 0, 0, 0, 0, 1, 0, 0, 1, 0, 0, 0, 0, 1, 0, 1, 0, 1, 0, 2, 0, 0, 0, 0, 0, 0, 2, 2, 2, 2, 2, 2, 2, 2, 2, 2, 2, 2, 2, 2, 2, 2, 2, 2, 2, 2, 0, 0, 2, 0, 0, 0, 2, 0, 2, 2, 0, 0, 0, 2, 2, 0, 2, 2, 1, 2, 2, 2, 0, 0, 0, 0, 0, 0, 0, 0, 2, 0, 0, 0, 0, 0, 0, 2, 2, 2, 2, 2, 2, 2, 1, 2, 0, 0, 0, 0, 0, 0, 0, 0, 0, 0, 0, 0, 0, 0]\n"
          ]
        }
      ]
    },
    {
      "cell_type": "code",
      "source": [
        "data_calidad[\"SEMAFORO\"] = values  #Se crea la nueva columna"
      ],
      "metadata": {
        "id": "2kZUJZY8V8DN"
      },
      "execution_count": 57,
      "outputs": []
    },
    {
      "cell_type": "code",
      "source": [
        "data_por_estado = data_calidad.groupby([\"ESTADO\"]).sum() #Se agrupan los reportes negativos por estados"
      ],
      "metadata": {
        "id": "cUgjx5UgWAvY"
      },
      "execution_count": 58,
      "outputs": []
    },
    {
      "cell_type": "code",
      "source": [
        "data_por_estado.head() #Se imprimen los primeros valores"
      ],
      "metadata": {
        "colab": {
          "base_uri": "https://localhost:8080/",
          "height": 238
        },
        "id": "QoR5xL1eWEdH",
        "outputId": "520fb447-dca1-4349-c2e5-87aa79a27d7d"
      },
      "execution_count": 65,
      "outputs": [
        {
          "output_type": "execute_result",
          "data": {
            "text/plain": [
              "                        LONGITUD     LATITUD  PERIODO  OD_PORC_MED  SEMAFORO\n",
              "ESTADO                                                                      \n",
              "AGUASCALIENTES      -1126.916951  241.757758    22231          0.0        16\n",
              "BAJA CALIFORNIA SUR -2099.334462  463.858877    38399        192.7         8\n",
              "BAJA CALIFORNIA2    -1856.424226  514.308717    32336        208.8        24\n",
              "CAMPECHE              -90.516830   19.874220     2021          0.0         0\n",
              "CHIAPAS             -5103.954719  918.833565   111155       1492.8        61"
            ],
            "text/html": [
              "\n",
              "  <div id=\"df-eb48e720-ce31-4a09-834b-f5172159d80d\">\n",
              "    <div class=\"colab-df-container\">\n",
              "      <div>\n",
              "<style scoped>\n",
              "    .dataframe tbody tr th:only-of-type {\n",
              "        vertical-align: middle;\n",
              "    }\n",
              "\n",
              "    .dataframe tbody tr th {\n",
              "        vertical-align: top;\n",
              "    }\n",
              "\n",
              "    .dataframe thead th {\n",
              "        text-align: right;\n",
              "    }\n",
              "</style>\n",
              "<table border=\"1\" class=\"dataframe\">\n",
              "  <thead>\n",
              "    <tr style=\"text-align: right;\">\n",
              "      <th></th>\n",
              "      <th>LONGITUD</th>\n",
              "      <th>LATITUD</th>\n",
              "      <th>PERIODO</th>\n",
              "      <th>OD_PORC_MED</th>\n",
              "      <th>SEMAFORO</th>\n",
              "    </tr>\n",
              "    <tr>\n",
              "      <th>ESTADO</th>\n",
              "      <th></th>\n",
              "      <th></th>\n",
              "      <th></th>\n",
              "      <th></th>\n",
              "      <th></th>\n",
              "    </tr>\n",
              "  </thead>\n",
              "  <tbody>\n",
              "    <tr>\n",
              "      <th>AGUASCALIENTES</th>\n",
              "      <td>-1126.916951</td>\n",
              "      <td>241.757758</td>\n",
              "      <td>22231</td>\n",
              "      <td>0.0</td>\n",
              "      <td>16</td>\n",
              "    </tr>\n",
              "    <tr>\n",
              "      <th>BAJA CALIFORNIA SUR</th>\n",
              "      <td>-2099.334462</td>\n",
              "      <td>463.858877</td>\n",
              "      <td>38399</td>\n",
              "      <td>192.7</td>\n",
              "      <td>8</td>\n",
              "    </tr>\n",
              "    <tr>\n",
              "      <th>BAJA CALIFORNIA2</th>\n",
              "      <td>-1856.424226</td>\n",
              "      <td>514.308717</td>\n",
              "      <td>32336</td>\n",
              "      <td>208.8</td>\n",
              "      <td>24</td>\n",
              "    </tr>\n",
              "    <tr>\n",
              "      <th>CAMPECHE</th>\n",
              "      <td>-90.516830</td>\n",
              "      <td>19.874220</td>\n",
              "      <td>2021</td>\n",
              "      <td>0.0</td>\n",
              "      <td>0</td>\n",
              "    </tr>\n",
              "    <tr>\n",
              "      <th>CHIAPAS</th>\n",
              "      <td>-5103.954719</td>\n",
              "      <td>918.833565</td>\n",
              "      <td>111155</td>\n",
              "      <td>1492.8</td>\n",
              "      <td>61</td>\n",
              "    </tr>\n",
              "  </tbody>\n",
              "</table>\n",
              "</div>\n",
              "      <button class=\"colab-df-convert\" onclick=\"convertToInteractive('df-eb48e720-ce31-4a09-834b-f5172159d80d')\"\n",
              "              title=\"Convert this dataframe to an interactive table.\"\n",
              "              style=\"display:none;\">\n",
              "        \n",
              "  <svg xmlns=\"http://www.w3.org/2000/svg\" height=\"24px\"viewBox=\"0 0 24 24\"\n",
              "       width=\"24px\">\n",
              "    <path d=\"M0 0h24v24H0V0z\" fill=\"none\"/>\n",
              "    <path d=\"M18.56 5.44l.94 2.06.94-2.06 2.06-.94-2.06-.94-.94-2.06-.94 2.06-2.06.94zm-11 1L8.5 8.5l.94-2.06 2.06-.94-2.06-.94L8.5 2.5l-.94 2.06-2.06.94zm10 10l.94 2.06.94-2.06 2.06-.94-2.06-.94-.94-2.06-.94 2.06-2.06.94z\"/><path d=\"M17.41 7.96l-1.37-1.37c-.4-.4-.92-.59-1.43-.59-.52 0-1.04.2-1.43.59L10.3 9.45l-7.72 7.72c-.78.78-.78 2.05 0 2.83L4 21.41c.39.39.9.59 1.41.59.51 0 1.02-.2 1.41-.59l7.78-7.78 2.81-2.81c.8-.78.8-2.07 0-2.86zM5.41 20L4 18.59l7.72-7.72 1.47 1.35L5.41 20z\"/>\n",
              "  </svg>\n",
              "      </button>\n",
              "      \n",
              "  <style>\n",
              "    .colab-df-container {\n",
              "      display:flex;\n",
              "      flex-wrap:wrap;\n",
              "      gap: 12px;\n",
              "    }\n",
              "\n",
              "    .colab-df-convert {\n",
              "      background-color: #E8F0FE;\n",
              "      border: none;\n",
              "      border-radius: 50%;\n",
              "      cursor: pointer;\n",
              "      display: none;\n",
              "      fill: #1967D2;\n",
              "      height: 32px;\n",
              "      padding: 0 0 0 0;\n",
              "      width: 32px;\n",
              "    }\n",
              "\n",
              "    .colab-df-convert:hover {\n",
              "      background-color: #E2EBFA;\n",
              "      box-shadow: 0px 1px 2px rgba(60, 64, 67, 0.3), 0px 1px 3px 1px rgba(60, 64, 67, 0.15);\n",
              "      fill: #174EA6;\n",
              "    }\n",
              "\n",
              "    [theme=dark] .colab-df-convert {\n",
              "      background-color: #3B4455;\n",
              "      fill: #D2E3FC;\n",
              "    }\n",
              "\n",
              "    [theme=dark] .colab-df-convert:hover {\n",
              "      background-color: #434B5C;\n",
              "      box-shadow: 0px 1px 3px 1px rgba(0, 0, 0, 0.15);\n",
              "      filter: drop-shadow(0px 1px 2px rgba(0, 0, 0, 0.3));\n",
              "      fill: #FFFFFF;\n",
              "    }\n",
              "  </style>\n",
              "\n",
              "      <script>\n",
              "        const buttonEl =\n",
              "          document.querySelector('#df-eb48e720-ce31-4a09-834b-f5172159d80d button.colab-df-convert');\n",
              "        buttonEl.style.display =\n",
              "          google.colab.kernel.accessAllowed ? 'block' : 'none';\n",
              "\n",
              "        async function convertToInteractive(key) {\n",
              "          const element = document.querySelector('#df-eb48e720-ce31-4a09-834b-f5172159d80d');\n",
              "          const dataTable =\n",
              "            await google.colab.kernel.invokeFunction('convertToInteractive',\n",
              "                                                     [key], {});\n",
              "          if (!dataTable) return;\n",
              "\n",
              "          const docLinkHtml = 'Like what you see? Visit the ' +\n",
              "            '<a target=\"_blank\" href=https://colab.research.google.com/notebooks/data_table.ipynb>data table notebook</a>'\n",
              "            + ' to learn more about interactive tables.';\n",
              "          element.innerHTML = '';\n",
              "          dataTable['output_type'] = 'display_data';\n",
              "          await google.colab.output.renderOutput(dataTable, element);\n",
              "          const docLink = document.createElement('div');\n",
              "          docLink.innerHTML = docLinkHtml;\n",
              "          element.appendChild(docLink);\n",
              "        }\n",
              "      </script>\n",
              "    </div>\n",
              "  </div>\n",
              "  "
            ]
          },
          "metadata": {},
          "execution_count": 65
        }
      ]
    },
    {
      "cell_type": "code",
      "source": [
        "salud = pd.read_excel(r\"/content/BIINEGI2060111430 1.xlsx\") #Se lee la base de datos de reportes de salud"
      ],
      "metadata": {
        "id": "vmWQQT5wWi4i"
      },
      "execution_count": 85,
      "outputs": []
    },
    {
      "cell_type": "code",
      "source": [
        "print(salud.head())"
      ],
      "metadata": {
        "colab": {
          "base_uri": "https://localhost:8080/"
        },
        "id": "-P-0Q2uwYuMY",
        "outputId": "ac6cafb7-b5ac-4aa3-848f-e640f2f31eb4"
      },
      "execution_count": 86,
      "outputs": [
        {
          "output_type": "stream",
          "name": "stdout",
          "text": [
            "                Entidad  Salud autorreportada\n",
            "0        aguascalientes                   8.5\n",
            "1      baja california2                   8.6\n",
            "2   baja california sur                   8.6\n",
            "3              campeche                   8.3\n",
            "4  coahuila de zaragoza                   8.6\n"
          ]
        }
      ]
    },
    {
      "cell_type": "code",
      "source": [
        "data_semaforo = pd.DataFrame()  #Se obtienen los datos requeridos\n",
        "#data_semaforo[\"Estado\"] = data_por_estado.ESTADO\n",
        "data_semaforo[\"Semaforo\"] = data_por_estado[\"SEMAFORO\"]"
      ],
      "metadata": {
        "id": "VJr83q2BYvdm"
      },
      "execution_count": 87,
      "outputs": []
    },
    {
      "cell_type": "code",
      "source": [
        "estados = [] \n",
        "for estado in data_por_estado.index:\n",
        "  estados.append(estado)\n",
        "data_semaforo[\"Estado\"] = estados"
      ],
      "metadata": {
        "id": "RrrMJURFZTH3"
      },
      "execution_count": 88,
      "outputs": []
    },
    {
      "cell_type": "code",
      "source": [
        "estados_salud = salud.Entidad.tolist()\n",
        "salud_autorreportada = salud[\"Salud autorreportada\"].tolist()"
      ],
      "metadata": {
        "id": "7YL9aKLZaH5k"
      },
      "execution_count": 89,
      "outputs": []
    },
    {
      "cell_type": "code",
      "source": [
        "estados_semaforo = [x.lower() for x in data_semaforo[\"Estado\"].tolist()]\n",
        "semaforo = data_semaforo[\"Semaforo\"].tolist()\n",
        "  "
      ],
      "metadata": {
        "id": "AZlMoIcTacFq"
      },
      "execution_count": 110,
      "outputs": []
    },
    {
      "cell_type": "code",
      "source": [
        "print(estados_semaforo)"
      ],
      "metadata": {
        "id": "tmSH6L_Rgomr",
        "outputId": "51b0cfa9-e8d1-44f0-b9f9-cb1f150a203b",
        "colab": {
          "base_uri": "https://localhost:8080/"
        }
      },
      "execution_count": 111,
      "outputs": [
        {
          "output_type": "stream",
          "name": "stdout",
          "text": [
            "['aguascalientes', 'baja california sur', 'baja california2', 'campeche', 'chiapas', 'chihuahua', 'coahuila de zaragoza', 'colima', 'distrito federal', 'durango', 'guanajuato', 'guerrero', 'hidalgo', 'jalisco', 'mexico', 'michoacan de ocampo', 'morelos', 'nayarit', 'nuevo leon', 'oaxaca', 'puebla', 'queretaro', 'quintana roo', 'san luis potosi', 'sinaloa', 'sonora', 'tabasco', 'tamaulipas', 'tlaxcala', 'veracruz de ignacio de la llave', 'yucatan', 'zacatecas']\n"
          ]
        }
      ]
    },
    {
      "cell_type": "code",
      "source": [
        "semaforo_orden = [] #Se cambia el orden para que ambas bases de datos tengan el mismo orden y formato\n",
        "salud_orden = []\n",
        "for estado in range(len(estados_salud)):\n",
        "  index_salud = estados_salud.index(estados_semaforo[estado])\n",
        "  salud_orden.append(salud_autorreportada[index_salud])\n"
      ],
      "metadata": {
        "id": "L6vCeczta1Ym",
        "outputId": "d52502eb-a569-4209-c809-b42bfb44dc43",
        "colab": {
          "base_uri": "https://localhost:8080/"
        }
      },
      "execution_count": 118,
      "outputs": [
        {
          "output_type": "stream",
          "name": "stdout",
          "text": [
            "0.0\n",
            "0.0\n",
            "0.0\n",
            "0.0\n",
            "-0.40000000000000036\n",
            "-0.3999999999999986\n",
            "0.40000000000000036\n",
            "0.3999999999999986\n",
            "0.0\n",
            "0.0\n",
            "0.0\n",
            "0.0\n",
            "0.0\n",
            "0.0\n",
            "0.0\n",
            "0.0\n",
            "0.0\n",
            "0.0\n",
            "0.0\n",
            "0.0\n",
            "0.0\n",
            "0.0\n",
            "0.0\n",
            "0.0\n",
            "0.0\n",
            "0.0\n",
            "0.0\n",
            "0.0\n",
            "0.0\n",
            "0.0\n",
            "0.0\n",
            "0.0\n"
          ]
        }
      ]
    },
    {
      "cell_type": "code",
      "source": [
        "plt.rcParams.update({'font.size': 20}) #Se utiliza un scatterplot para ver el comportamiento de los datos\n",
        "plt.figure(figsize=(10,10))\n",
        "plt.scatter(salud_orden, semaforo, s = 70)\n",
        "plt.xlabel(\"Salud autorreportada\")\n",
        "plt.ylabel(\"Reportes calidad de agua\")\n",
        "plt.title(\"Salud de las personas en relacion a la calidad del agua\")\n",
        "plt.show()"
      ],
      "metadata": {
        "id": "_RgeiCqchc9f",
        "outputId": "be5f460c-69af-4d0f-9fe8-6e4c629285cd",
        "colab": {
          "base_uri": "https://localhost:8080/",
          "height": 648
        }
      },
      "execution_count": 126,
      "outputs": [
        {
          "output_type": "display_data",
          "data": {
            "text/plain": [
              "<Figure size 720x720 with 1 Axes>"
            ],
            "image/png": "[encoded data removed]"
          },
          "metadata": {
            "needs_background": "light"
          }
        }
      ]
    },
    {
      "cell_type": "code",
      "source": [],
      "metadata": {
        "id": "N-gFtViZi2cA"
      },
      "execution_count": 128,
      "outputs": []
    },
    {
      "cell_type": "code",
      "source": [
        "import matplotlib.pyplot as plt # Se utiliza sklearn para calcular una regresion lineal entre las variables\n",
        "import numpy as np\n",
        "from sklearn import datasets, linear_model\n",
        "from sklearn.metrics import mean_squared_error, r2_score\n",
        "\n",
        "X_train = [[x] for x in salud_orden]\n",
        "y_train = [[y] for y in semaforo]\n",
        "\n",
        "regr = linear_model.LinearRegression() # Se crea el objeto \n",
        "\n",
        "\n",
        "regr.fit(X_train, y_train) # Se entrena el modelo\n",
        "\n",
        "plt.rcParams.update({'font.size': 20}) #Se imprime de nuevo con la linea de regresion\n",
        "plt.figure(figsize=(10,10))\n",
        "plt.scatter(salud_orden, semaforo, s = 70, color = \"Black\")\n",
        "plt.xlabel(\"Salud autorreportada\")\n",
        "plt.ylabel(\"Reportes calidad de agua\")\n",
        "plt.title(\"Salud de las personas en relacion a la calidad del agua\")\n",
        "y_pred = regr.predict(X_train)\n",
        "plt.plot(X_train, y_pred, color=\"blue\", linewidth=3)\n",
        "\n",
        "plt.show()"
      ],
      "metadata": {
        "id": "2K4UQJjgkuba",
        "outputId": "ccf01ca6-df4d-486e-aa3a-ceb80b5c4e19",
        "colab": {
          "base_uri": "https://localhost:8080/",
          "height": 648
        }
      },
      "execution_count": 137,
      "outputs": [
        {
          "output_type": "display_data",
          "data": {
            "text/plain": [
              "<Figure size 720x720 with 1 Axes>"
            ],
            "image/png": "[encoded data removed]"
          },
          "metadata": {
            "needs_background": "light"
          }
        }
      ]
    },
    {
      "cell_type": "code",
      "source": [
        "import pandas as pd\n",
        "\n",
        "salud_cr = pd.Series(salud_orden) #Se convierten las listas a series de pandas\n",
        "reportes_cr = pd.Series(semaforo)\n",
        " \n",
        "corr = round(salud_cr.corr(reportes_cr), 4) #Se calcula la correlacion \n",
        " \n",
        "print('corr_gust :', corr)"
      ],
      "metadata": {
        "id": "iQ6CJG3jlu2P",
        "outputId": "1f5c539d-ad27-4029-b2f8-30ea8d1af912",
        "colab": {
          "base_uri": "https://localhost:8080/"
        }
      },
      "execution_count": 138,
      "outputs": [
        {
          "output_type": "stream",
          "name": "stdout",
          "text": [
            "corr_gust : -0.4784\n"
          ]
        }
      ]
    },
    {
      "cell_type": "code",
      "source": [],
      "metadata": {
        "id": "Fz4t1fQ2oWmw"
      },
      "execution_count": null,
      "outputs": []
    }
  ]
}