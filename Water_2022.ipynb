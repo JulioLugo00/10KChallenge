{
  "cells": [
    {
      "cell_type": "code",
      "execution_count": 1,
      "metadata": {
        "colab": {
          "base_uri": "https://localhost:8080/"
        },
        "id": "DCAYQuyEqyuR",
        "outputId": "efae38fe-7d8b-41aa-ab53-86839c0a2f54"
      },
      "outputs": [
        {
          "output_type": "stream",
          "name": "stdout",
          "text": [
            "Mounted at /content/drive\n"
          ]
        }
      ],
      "source": [
        "from google.colab import drive\n",
        "drive.mount('/content/drive')"
      ]
    },
    {
      "cell_type": "markdown",
      "metadata": {
        "id": "IF-me0lgEpYi"
      },
      "source": [
        "Maquina Virtual"
      ]
    },
    {
      "cell_type": "code",
      "execution_count": 2,
      "metadata": {
        "colab": {
          "base_uri": "https://localhost:8080/"
        },
        "id": "n74aZARs_tG1",
        "outputId": "75369161-c01c-49cc-8f03-5e0171b28faf"
      },
      "outputs": [
        {
          "output_type": "stream",
          "name": "stdout",
          "text": [
            "No LSB modules are available.\n",
            "Distributor ID:\tUbuntu\n",
            "Description:\tUbuntu 18.04.6 LTS\n",
            "Release:\t18.04\n",
            "Codename:\tbionic\n"
          ]
        }
      ],
      "source": [
        "!lsb_release -a"
      ]
    },
    {
      "cell_type": "code",
      "execution_count": 3,
      "metadata": {
        "colab": {
          "base_uri": "https://localhost:8080/"
        },
        "id": "EW24ah0ERe_k",
        "outputId": "7bcbdfa3-f6c5-4bc7-e2f5-ecc9f0e3297b"
      },
      "outputs": [
        {
          "output_type": "stream",
          "name": "stdout",
          "text": [
            "CPU(s):              2\n",
            "Thread(s) per core:  2\n",
            "Core(s) per socket:  1\n",
            "Socket(s):           1\n",
            "Model name:          Intel(R) Xeon(R) CPU @ 2.20GHz\n"
          ]
        }
      ],
      "source": [
        "!lscpu | grep -E '^Model name|^Thread|^Core|^Socket|^CPU\\('"
      ]
    },
    {
      "cell_type": "code",
      "execution_count": 4,
      "metadata": {
        "colab": {
          "base_uri": "https://localhost:8080/"
        },
        "id": "eOUslny30IXN",
        "outputId": "1b83ef1e-7897-465f-9fc6-c86727b1e43e"
      },
      "outputs": [
        {
          "output_type": "stream",
          "name": "stdout",
          "text": [
            "              total        used        free      shared  buff/cache   available\n",
            "Mem:            12G        823M        9.3G        1.2M        2.6G         11G\n",
            "Swap:            0B          0B          0B\n"
          ]
        }
      ],
      "source": [
        "!free -m -h"
      ]
    },
    {
      "cell_type": "code",
      "execution_count": 5,
      "metadata": {
        "colab": {
          "base_uri": "https://localhost:8080/"
        },
        "id": "sEIZ9U-R0UI9",
        "outputId": "ac0fa462-981b-4016-90b4-2a60a1eaa433"
      },
      "outputs": [
        {
          "output_type": "stream",
          "name": "stdout",
          "text": [
            "Filesystem      Size  Used Avail Use% Mounted on\n",
            "overlay         108G   23G   86G  21% /\n",
            "tmpfs            64M     0   64M   0% /dev\n",
            "shm             5.8G     0  5.8G   0% /dev/shm\n",
            "/dev/root       2.0G  1.1G  910M  54% /sbin/docker-init\n",
            "tmpfs           6.4G   32K  6.4G   1% /var/colab\n",
            "/dev/sda1        41G   24G   17G  59% /etc/hosts\n",
            "tmpfs           6.4G     0  6.4G   0% /proc/acpi\n",
            "tmpfs           6.4G     0  6.4G   0% /proc/scsi\n",
            "tmpfs           6.4G     0  6.4G   0% /sys/firmware\n",
            "drive           108G   27G   81G  25% /content/drive\n"
          ]
        }
      ],
      "source": [
        "!df -h"
      ]
    },
    {
      "cell_type": "code",
      "execution_count": 6,
      "metadata": {
        "colab": {
          "base_uri": "https://localhost:8080/"
        },
        "id": "ouYNz1s10aXr",
        "outputId": "2bdd1e05-270f-4ee8-f69b-3489faf7b33f"
      },
      "outputs": [
        {
          "output_type": "stream",
          "name": "stdout",
          "text": [
            "NAME  ROTA\n",
            "loop0    0\n",
            "sda      0\n"
          ]
        }
      ],
      "source": [
        "!lsblk -d -o name,rota"
      ]
    },
    {
      "cell_type": "code",
      "execution_count": null,
      "metadata": {
        "id": "HVpStMpv0cXa"
      },
      "outputs": [],
      "source": []
    },
    {
      "cell_type": "markdown",
      "metadata": {
        "id": "qM5X32-Q0dN1"
      },
      "source": [
        "Instalación de Requerimientos"
      ]
    },
    {
      "cell_type": "code",
      "execution_count": 7,
      "metadata": {
        "id": "TrxTL-CnEvvR"
      },
      "outputs": [],
      "source": [
        "!apt-get install openjdk-11-jdk-headless -qq > /dev/null\n",
        "!wget -q https://archive.apache.org/dist/spark/spark-3.2.2/spark-3.2.2-bin-hadoop3.2.tgz\n",
        "!tar xf spark-3.2.2-bin-hadoop3.2.tgz\n",
        "!pip -q install findspark"
      ]
    },
    {
      "cell_type": "code",
      "execution_count": 8,
      "metadata": {
        "colab": {
          "base_uri": "https://localhost:8080/"
        },
        "id": "bDTbRe9mF4Jx",
        "outputId": "4eec0a41-b412-4c33-bd0e-7372bee4b78e"
      },
      "outputs": [
        {
          "output_type": "stream",
          "name": "stdout",
          "text": [
            "openjdk version \"11.0.16\" 2022-07-19\n",
            "OpenJDK Runtime Environment (build 11.0.16+8-post-Ubuntu-0ubuntu118.04)\n",
            "OpenJDK 64-Bit Server VM (build 11.0.16+8-post-Ubuntu-0ubuntu118.04, mixed mode, sharing)\n"
          ]
        }
      ],
      "source": [
        "! java -version"
      ]
    },
    {
      "cell_type": "code",
      "execution_count": 9,
      "metadata": {
        "id": "MlGo6CQiFHVP"
      },
      "outputs": [],
      "source": [
        "import os\n",
        "os.environ[\"JAVA_HOME\"] = \"/usr/lib/jvm/java-11-openjdk-amd64\"\n",
        "os.environ[\"SPARK_HOME\"] = \"/content/spark-3.2.2-bin-hadoop3.2\""
      ]
    },
    {
      "cell_type": "code",
      "execution_count": 10,
      "metadata": {
        "colab": {
          "base_uri": "https://localhost:8080/"
        },
        "id": "WBP7STCmK-ru",
        "outputId": "38335f0e-ed82-4890-b2b5-ba52029fb0ba"
      },
      "outputs": [
        {
          "output_type": "stream",
          "name": "stdout",
          "text": [
            "\u001b[K     |████████████████████████████████| 281.4 MB 43 kB/s \n",
            "\u001b[K     |████████████████████████████████| 199 kB 65.7 MB/s \n",
            "\u001b[?25h  Building wheel for pyspark (setup.py) ... \u001b[?25l\u001b[?25hdone\n"
          ]
        }
      ],
      "source": [
        "!pip -q install pyspark"
      ]
    },
    {
      "cell_type": "code",
      "execution_count": 11,
      "metadata": {
        "colab": {
          "base_uri": "https://localhost:8080/"
        },
        "id": "0zCM53AzFHi0",
        "outputId": "d4f3baa0-1cbd-44e3-8089-1c20a1819856"
      },
      "outputs": [
        {
          "output_type": "stream",
          "name": "stdout",
          "text": [
            "\u001b[K     |████████████████████████████████| 1.0 MB 7.6 MB/s \n",
            "\u001b[K     |████████████████████████████████| 1.0 MB 44.6 MB/s \n",
            "\u001b[K     |████████████████████████████████| 67 kB 6.7 MB/s \n",
            "\u001b[K     |████████████████████████████████| 16.7 MB 223 kB/s \n",
            "\u001b[K     |████████████████████████████████| 6.3 MB 22.5 MB/s \n",
            "\u001b[?25h"
          ]
        }
      ],
      "source": [
        "!pip -q install geopandas attrs shapely rtree apache-sedona[spark]"
      ]
    },
    {
      "cell_type": "markdown",
      "metadata": {
        "id": "pm8U3jwS1sGN"
      },
      "source": [
        "Descarga de Bases de Datos Listas para el Análisis"
      ]
    },
    {
      "cell_type": "code",
      "execution_count": 13,
      "metadata": {
        "id": "pGImqYqXHX7q",
        "colab": {
          "base_uri": "https://localhost:8080/"
        },
        "outputId": "ad169fd7-d0e5-40ae-dba2-ccb54946c7bd"
      },
      "outputs": [
        {
          "output_type": "stream",
          "name": "stdout",
          "text": [
            "Downloading...\n",
            "From: https://drive.google.com/uc?id=1CbCm0n41uKHPi-L8bTag2G6RA71tdaM4\n",
            "To: /content/DENUE_Parquets.zip\n",
            "100% 486M/486M [00:02<00:00, 213MB/s]\n",
            "Downloading...\n",
            "From: https://drive.google.com/uc?id=134WppiiO8fdYOxD4yJI-ZX51YTwnVgLu\n",
            "To: /content/SCINCE_Parquets.zip\n",
            "100% 1.14G/1.14G [00:06<00:00, 173MB/s]\n"
          ]
        }
      ],
      "source": [
        "#Descarga de Bases de Datos SCINCE 2020 y DENUE Mayo 2022\n",
        "#!cp /content/drive/MyDrive/SCINCE_Parquets.zip /content\n",
        "#!cp /content/drive/MyDrive/DENUE_Parquets.zip /content\n",
        "!gdown 1CbCm0n41uKHPi-L8bTag2G6RA71tdaM4\n",
        "!gdown 134WppiiO8fdYOxD4yJI-ZX51YTwnVgLu\n"
      ]
    },
    {
      "cell_type": "markdown",
      "metadata": {
        "id": "GLN2kRDjREcB"
      },
      "source": [
        "Descompactar los Datos"
      ]
    },
    {
      "cell_type": "code",
      "execution_count": 13,
      "metadata": {
        "colab": {
          "base_uri": "https://localhost:8080/"
        },
        "id": "oIZr5GwhRG1D",
        "outputId": "afe88d1d-8b7e-4d93-9c32-ae17a0c84934"
      },
      "outputs": [
        {
          "output_type": "stream",
          "name": "stdout",
          "text": [
            "/content/DENUE_Parquets.zip  /content/SCINCE_Parquets.zip\n"
          ]
        }
      ],
      "source": [
        "!ls /content/*.zip"
      ]
    },
    {
      "cell_type": "code",
      "execution_count": 14,
      "metadata": {
        "id": "LhkTKoZcRgd9"
      },
      "outputs": [],
      "source": [
        "!unzip /content/DENUE_Parquets.zip -d /content/DENUE_Parquets/ &> /dev/null"
      ]
    },
    {
      "cell_type": "code",
      "execution_count": 15,
      "metadata": {
        "id": "-G2Y00INSQbC"
      },
      "outputs": [],
      "source": [
        "!unzip /content/SCINCE_Parquets.zip -d /content/SCINCE_Parquets/ &> /dev/null"
      ]
    },
    {
      "cell_type": "code",
      "execution_count": 16,
      "metadata": {
        "colab": {
          "base_uri": "https://localhost:8080/"
        },
        "id": "Aj4fL_pw1C1Q",
        "outputId": "5de3e1d6-fcb5-4c1d-dc07-5e161754dd44"
      },
      "outputs": [
        {
          "output_type": "stream",
          "name": "stdout",
          "text": [
            "01.parquet  07.parquet\t13.parquet    18.parquet  24.parquet  30.parquet\n",
            "02.parquet  08.parquet\t14.parquet    19.parquet  25.parquet  31.parquet\n",
            "03.parquet  09.parquet\t15_1.parquet  20.parquet  26.parquet  32.parquet\n",
            "04.parquet  10.parquet\t15_2.parquet  21.parquet  27.parquet\n",
            "05.parquet  11.parquet\t16.parquet    22.parquet  28.parquet\n",
            "06.parquet  12.parquet\t17.parquet    23.parquet  29.parquet\n"
          ]
        }
      ],
      "source": [
        "!ls /content/DENUE_Parquets"
      ]
    },
    {
      "cell_type": "code",
      "execution_count": 17,
      "metadata": {
        "id": "LUy85kqY1HAV",
        "colab": {
          "base_uri": "https://localhost:8080/"
        },
        "outputId": "250173d5-3d69-4848-87dc-3768c166260e"
      },
      "outputs": [
        {
          "output_type": "stream",
          "name": "stdout",
          "text": [
            "DENUE_Parquets\t    sample_data\t\t spark-3.2.2-bin-hadoop3.2\n",
            "DENUE_Parquets.zip  SCINCE_Parquets\t spark-3.2.2-bin-hadoop3.2.tgz\n",
            "drive\t\t    SCINCE_Parquets.zip\n"
          ]
        }
      ],
      "source": [
        "!ls /content"
      ]
    },
    {
      "cell_type": "markdown",
      "metadata": {
        "id": "6GvLgMXF1L3h"
      },
      "source": [
        "Inicio de Apache Spark y Apache Sedona"
      ]
    },
    {
      "cell_type": "code",
      "execution_count": 18,
      "metadata": {
        "colab": {
          "base_uri": "https://localhost:8080/"
        },
        "id": "2RyhZF4HFf1J",
        "outputId": "23454a94-d347-43f6-b4d2-2b9f72d83457"
      },
      "outputs": [
        {
          "output_type": "execute_result",
          "data": {
            "text/plain": [
              "True"
            ]
          },
          "metadata": {},
          "execution_count": 18
        }
      ],
      "source": [
        "import findspark\n",
        "findspark.init()\n",
        "import shapely\n",
        "import pandas as pd \n",
        "import geopandas as gpd\n",
        "from pyspark.sql import SparkSession\n",
        "from pyspark import SparkContext\n",
        "from pyspark import SparkConf\n",
        "from sedona.register import SedonaRegistrator\n",
        "from sedona.utils import SedonaKryoRegistrator, KryoSerializer\n",
        "spark = SparkSession. \\\n",
        "builder. \\\n",
        "appName('GeoBigData'). \\\n",
        "config(\"spark.serializer\", KryoSerializer.getName). \\\n",
        "config(\"spark.executor.memory\", \"5g\"). \\\n",
        "config(\"spark.driver.memory\", \"10g\"). \\\n",
        "config('spark.driver.maxResultSize', '5g'). \\\n",
        "config(\"spark.kryo.registrator\", SedonaKryoRegistrator.getName). \\\n",
        "config('spark.jars.packages',\n",
        "           'org.apache.sedona:sedona-python-adapter-3.0_2.12:1.2.0-incubating,'\n",
        "           'org.datasyslab:geotools-wrapper:1.1.0-25.2'). \\\n",
        "getOrCreate()\n",
        "SedonaRegistrator.registerAll(spark)"
      ]
    },
    {
      "cell_type": "markdown",
      "metadata": {
        "id": "l_2ojrBdQHUz"
      },
      "source": [
        "Leer Datos"
      ]
    },
    {
      "cell_type": "code",
      "execution_count": 98,
      "metadata": {
        "colab": {
          "base_uri": "https://localhost:8080/"
        },
        "id": "ut387qQlaF-E",
        "outputId": "824b42e7-d224-4805-afa6-512fe1cd194b"
      },
      "outputs": [
        {
          "output_type": "stream",
          "name": "stdout",
          "text": [
            "root\n",
            " |-- CVEGEO: string (nullable = true)\n",
            " |-- ECO1_R: double (nullable = true)\n",
            " |-- EDU46_R: double (nullable = true)\n",
            " |-- VIV19_R: double (nullable = true)\n",
            " |-- VIV20_R: double (nullable = true)\n",
            " |-- VIV23_R: double (nullable = true)\n",
            " |-- VIV82_R: double (nullable = true)\n",
            " |-- VIV82_R: double (nullable = true)\n",
            " |-- VIV83_R: double (nullable = true)\n",
            " |-- VIV84_R: double (nullable = true)\n",
            " |-- geometry: geometry (nullable = true)\n",
            "\n",
            "+----------------+------+-------+-------+-------+-------+-------+-------+-------+-------+--------------------+\n",
            "|          CVEGEO|ECO1_R|EDU46_R|VIV19_R|VIV20_R|VIV23_R|VIV82_R|VIV82_R|VIV83_R|VIV84_R|            geometry|\n",
            "+----------------+------+-------+-------+-------+-------+-------+-------+-------+-------+--------------------+\n",
            "|1900100010021001|  53.7|   10.6|  100.0|  100.0|  100.0|   75.0|   75.0|   30.0|   40.0|POLYGON ((2659352...|\n",
            "|1900100010021007|  54.5|   12.2|  100.0|  100.0|  100.0|   61.9|   61.9|   19.0|   19.0|POLYGON ((2659829...|\n",
            "|1900100010021020|  -6.0|   -6.0|   -6.0|   -6.0|   -6.0|   -6.0|   -6.0|   -6.0|   -6.0|POLYGON ((2659830...|\n",
            "|1900100010021037|  -8.0|   -8.0|   -8.0|   -8.0|   -8.0|   -8.0|   -8.0|   -8.0|   -8.0|POLYGON ((2659506...|\n",
            "|1900100010021047|  66.7|   -6.0|  100.0|  100.0|  100.0|   -6.0|   -6.0|   -6.0|   -6.0|POLYGON ((2659550...|\n",
            "|1900100010036010|  46.2|   -6.0|  100.0|  100.0|  100.0|   55.6|   55.6|   33.3|   -6.0|POLYGON ((2660761...|\n",
            "|1900100010036012|  43.8|   10.3|  100.0|  100.0|  100.0|   43.8|   43.8|   -6.0|   -6.0|POLYGON ((2660950...|\n",
            "|1900200010207030|  50.0|    0.0|  100.0|  100.0|  100.0|   -6.0|   -6.0|   -6.0|    0.0|POLYGON ((2744874...|\n",
            "|1900200010211013|  30.0|    0.0|  100.0|  100.0|  100.0|   -6.0|   -6.0|    0.0|    0.0|POLYGON ((2744393...|\n",
            "|1900200010211018|  -6.0|   -6.0|   -6.0|   -6.0|   -6.0|   -6.0|   -6.0|   -6.0|   -6.0|POLYGON ((2744881...|\n",
            "|1900200010226018|  -8.0|   -8.0|   -8.0|   -8.0|   -8.0|   -8.0|   -8.0|   -8.0|   -8.0|POLYGON ((2745917...|\n",
            "|1900200010230010|  83.3|    0.0|  100.0|  100.0|  100.0|   -6.0|   -6.0|    0.0|    0.0|POLYGON ((2744380...|\n",
            "|1900200010230012|  -6.0|   -6.0|  100.0|  100.0|  100.0|   -6.0|   -6.0|   -6.0|    0.0|POLYGON ((2744575...|\n",
            "|1900200010230026|  -6.0|   -6.0|   -6.0|   -6.0|   -6.0|   -6.0|   -6.0|   -6.0|   -6.0|POLYGON ((2744751...|\n",
            "|1900200010245017|  87.5|    0.0|  100.0|  100.0|  100.0|   -6.0|   -6.0|   -6.0|   -6.0|POLYGON ((2745022...|\n",
            "|190020001025A010|  62.5|   -6.0|  100.0|  100.0|  100.0|   75.0|   75.0|   -6.0|   -6.0|POLYGON ((2744927...|\n",
            "|190020001025A020|  -6.0|   -6.0|   -6.0|   -6.0|   -6.0|   -6.0|   -6.0|   -6.0|   -6.0|POLYGON ((2744638...|\n",
            "|190020001025A023|  42.9|    0.0|  100.0|   75.0|   75.0|    0.0|    0.0|    0.0|    0.0|POLYGON ((2744311...|\n",
            "|190020001025A025|  54.5|    0.0|  100.0|  100.0|  100.0|   60.0|   60.0|    0.0|    0.0|POLYGON ((2744521...|\n",
            "|1900200010264010|  -8.0|   -8.0|   -8.0|   -8.0|   -8.0|   -8.0|   -8.0|   -8.0|   -8.0|POLYGON ((2744230...|\n",
            "+----------------+------+-------+-------+-------+-------+-------+-------+-------+-------+--------------------+\n",
            "only showing top 20 rows\n",
            "\n"
          ]
        }
      ],
      "source": [
        "# Cambiar estado\n",
        "BD_MANZANAS = spark.read.parquet(f\"/content/SCINCE_Parquets/19_NL.parquet\")\n",
        "BD_MANZANAS_EEVVV = BD_MANZANAS.select('CVEGEO', 'ECO1_R', 'EDU46_R', 'VIV19_R', 'VIV20_R', 'VIV23_R','VIV82_R',  'VIV82_R', 'VIV83_R', 'VIV84_R', 'geometry')\n",
        "BD_MANZANAS_EEVVV.cache()\n",
        "BD_MANZANAS_EEVVV.printSchema()\n",
        "BD_MANZANAS_EEVVV.show()"
      ]
    },
    {
      "cell_type": "code",
      "execution_count": 99,
      "metadata": {
        "id": "gPD2yRXja56L"
      },
      "outputs": [],
      "source": [
        "BD_MANZANAS_EEVVV.createOrReplaceTempView(\"manzanas\")"
      ]
    },
    {
      "cell_type": "code",
      "execution_count": 100,
      "metadata": {
        "colab": {
          "base_uri": "https://localhost:8080/"
        },
        "id": "q0cMVBuBa8rn",
        "outputId": "de916b80-dba2-4015-ea81-1c964db477ea"
      },
      "outputs": [
        {
          "output_type": "stream",
          "name": "stdout",
          "text": [
            "+----------------+------+-------+-------+-------+-------+-------+-------+-------+--------------------+\n",
            "|          CVEGEO|ECO1_R|EDU46_R|VIV19_R|VIV20_R|VIV23_R|VIV82_R|VIV83_R|VIV84_R|            geometry|\n",
            "+----------------+------+-------+-------+-------+-------+-------+-------+-------+--------------------+\n",
            "|1900100010021001|  53.7|   10.6|  100.0|  100.0|  100.0|   75.0|   30.0|   40.0|POLYGON ((2659352...|\n",
            "|1900100010021007|  54.5|   12.2|  100.0|  100.0|  100.0|   61.9|   19.0|   19.0|POLYGON ((2659829...|\n",
            "|1900100010021020|   0.0|    0.0|    0.0|    0.0|    0.0|    0.0|    0.0|    0.0|POLYGON ((2659830...|\n",
            "|1900100010021037|   0.0|    0.0|    0.0|    0.0|    0.0|    0.0|    0.0|    0.0|POLYGON ((2659506...|\n",
            "|1900100010021047|  66.7|    0.0|  100.0|  100.0|  100.0|    0.0|    0.0|    0.0|POLYGON ((2659550...|\n",
            "|1900100010036010|  46.2|    0.0|  100.0|  100.0|  100.0|   55.6|   33.3|    0.0|POLYGON ((2660761...|\n",
            "|1900100010036012|  43.8|   10.3|  100.0|  100.0|  100.0|   43.8|    0.0|    0.0|POLYGON ((2660950...|\n",
            "|1900200010207030|  50.0|    0.0|  100.0|  100.0|  100.0|    0.0|    0.0|    0.0|POLYGON ((2744874...|\n",
            "|1900200010211013|  30.0|    0.0|  100.0|  100.0|  100.0|    0.0|    0.0|    0.0|POLYGON ((2744393...|\n",
            "|1900200010211018|   0.0|    0.0|    0.0|    0.0|    0.0|    0.0|    0.0|    0.0|POLYGON ((2744881...|\n",
            "|1900200010226018|   0.0|    0.0|    0.0|    0.0|    0.0|    0.0|    0.0|    0.0|POLYGON ((2745917...|\n",
            "|1900200010230010|  83.3|    0.0|  100.0|  100.0|  100.0|    0.0|    0.0|    0.0|POLYGON ((2744380...|\n",
            "|1900200010230012|   0.0|    0.0|  100.0|  100.0|  100.0|    0.0|    0.0|    0.0|POLYGON ((2744575...|\n",
            "|1900200010230026|   0.0|    0.0|    0.0|    0.0|    0.0|    0.0|    0.0|    0.0|POLYGON ((2744751...|\n",
            "|1900200010245017|  87.5|    0.0|  100.0|  100.0|  100.0|    0.0|    0.0|    0.0|POLYGON ((2745022...|\n",
            "|190020001025A010|  62.5|    0.0|  100.0|  100.0|  100.0|   75.0|    0.0|    0.0|POLYGON ((2744927...|\n",
            "|190020001025A020|   0.0|    0.0|    0.0|    0.0|    0.0|    0.0|    0.0|    0.0|POLYGON ((2744638...|\n",
            "|190020001025A023|  42.9|    0.0|  100.0|   75.0|   75.0|    0.0|    0.0|    0.0|POLYGON ((2744311...|\n",
            "|190020001025A025|  54.5|    0.0|  100.0|  100.0|  100.0|   60.0|    0.0|    0.0|POLYGON ((2744521...|\n",
            "|1900200010264010|   0.0|    0.0|    0.0|    0.0|    0.0|    0.0|    0.0|    0.0|POLYGON ((2744230...|\n",
            "+----------------+------+-------+-------+-------+-------+-------+-------+-------+--------------------+\n",
            "only showing top 20 rows\n",
            "\n"
          ]
        }
      ],
      "source": [
        "BD_MZA_EEVVV_CORREGIDO = spark.sql(\"\"\"select \n",
        "                                  CVEGEO,\n",
        "                                  if( (isnull(ECO1_R) or ECO1_R < 0 ), 0, ECO1_R) as ECO1_R, \n",
        "                                  if( (isnull(EDU46_R) or EDU46_R < 0 ), 0, EDU46_R) as EDU46_R,\n",
        "                                  if( (isnull(VIV19_R) or VIV19_R < 0 ), 0, VIV19_R) as VIV19_R,\n",
        "                                  if( (isnull(VIV20_R) or VIV20_R < 0 ), 0, VIV20_R) as VIV20_R,\n",
        "                                  if( (isnull(VIV23_R) or VIV23_R < 0 ), 0, VIV23_R) as VIV23_R,                    \n",
        "                                  if( (isnull(VIV82_R) or VIV82_R < 0 ), 0, VIV82_R) as VIV82_R,\n",
        "                                  if( (isnull(VIV83_R) or VIV83_R < 0 ), 0, VIV83_R) as VIV83_R,\n",
        "                                  if( (isnull(VIV84_R) or VIV84_R < 0 ), 0, VIV84_R) as VIV84_R,                                  \n",
        "                                  geometry\n",
        "                             from manzanas \"\"\")\n",
        "\n",
        "BD_MZA_EEVVV_CORREGIDO.cache()\n",
        "BD_MZA_EEVVV_CORREGIDO.show()"
      ]
    },
    {
      "cell_type": "code",
      "execution_count": 101,
      "metadata": {
        "colab": {
          "base_uri": "https://localhost:8080/"
        },
        "id": "6nj9t03kbPo2",
        "outputId": "6964024a-fc4d-4b44-c231-e1dd95f6aeb9"
      },
      "outputs": [
        {
          "output_type": "stream",
          "name": "stdout",
          "text": [
            "+----------------+------+-------+-------+-------+-------+-------+-------+-------+--------------------+--------------------+\n",
            "|          CVEGEO|ECO1_R|EDU46_R|VIV19_R|VIV20_R|VIV23_R|VIV82_R|VIV83_R|VIV84_R|            geometry|            features|\n",
            "+----------------+------+-------+-------+-------+-------+-------+-------+-------+--------------------+--------------------+\n",
            "|1900100010021001|  53.7|   10.6|  100.0|  100.0|  100.0|   75.0|   30.0|   40.0|POLYGON ((2659352...|[53.7,10.6,100.0,...|\n",
            "|1900100010021007|  54.5|   12.2|  100.0|  100.0|  100.0|   61.9|   19.0|   19.0|POLYGON ((2659829...|[54.5,12.2,100.0,...|\n",
            "|1900100010021020|   0.0|    0.0|    0.0|    0.0|    0.0|    0.0|    0.0|    0.0|POLYGON ((2659830...|           (8,[],[])|\n",
            "|1900100010021037|   0.0|    0.0|    0.0|    0.0|    0.0|    0.0|    0.0|    0.0|POLYGON ((2659506...|           (8,[],[])|\n",
            "|1900100010021047|  66.7|    0.0|  100.0|  100.0|  100.0|    0.0|    0.0|    0.0|POLYGON ((2659550...|(8,[0,2,3,4],[66....|\n",
            "|1900100010036010|  46.2|    0.0|  100.0|  100.0|  100.0|   55.6|   33.3|    0.0|POLYGON ((2660761...|[46.2,0.0,100.0,1...|\n",
            "|1900100010036012|  43.8|   10.3|  100.0|  100.0|  100.0|   43.8|    0.0|    0.0|POLYGON ((2660950...|[43.8,10.3,100.0,...|\n",
            "|1900200010207030|  50.0|    0.0|  100.0|  100.0|  100.0|    0.0|    0.0|    0.0|POLYGON ((2744874...|(8,[0,2,3,4],[50....|\n",
            "|1900200010211013|  30.0|    0.0|  100.0|  100.0|  100.0|    0.0|    0.0|    0.0|POLYGON ((2744393...|(8,[0,2,3,4],[30....|\n",
            "|1900200010211018|   0.0|    0.0|    0.0|    0.0|    0.0|    0.0|    0.0|    0.0|POLYGON ((2744881...|           (8,[],[])|\n",
            "|1900200010226018|   0.0|    0.0|    0.0|    0.0|    0.0|    0.0|    0.0|    0.0|POLYGON ((2745917...|           (8,[],[])|\n",
            "|1900200010230010|  83.3|    0.0|  100.0|  100.0|  100.0|    0.0|    0.0|    0.0|POLYGON ((2744380...|(8,[0,2,3,4],[83....|\n",
            "|1900200010230012|   0.0|    0.0|  100.0|  100.0|  100.0|    0.0|    0.0|    0.0|POLYGON ((2744575...|(8,[2,3,4],[100.0...|\n",
            "|1900200010230026|   0.0|    0.0|    0.0|    0.0|    0.0|    0.0|    0.0|    0.0|POLYGON ((2744751...|           (8,[],[])|\n",
            "|1900200010245017|  87.5|    0.0|  100.0|  100.0|  100.0|    0.0|    0.0|    0.0|POLYGON ((2745022...|(8,[0,2,3,4],[87....|\n",
            "|190020001025A010|  62.5|    0.0|  100.0|  100.0|  100.0|   75.0|    0.0|    0.0|POLYGON ((2744927...|[62.5,0.0,100.0,1...|\n",
            "|190020001025A020|   0.0|    0.0|    0.0|    0.0|    0.0|    0.0|    0.0|    0.0|POLYGON ((2744638...|           (8,[],[])|\n",
            "|190020001025A023|  42.9|    0.0|  100.0|   75.0|   75.0|    0.0|    0.0|    0.0|POLYGON ((2744311...|(8,[0,2,3,4],[42....|\n",
            "|190020001025A025|  54.5|    0.0|  100.0|  100.0|  100.0|   60.0|    0.0|    0.0|POLYGON ((2744521...|[54.5,0.0,100.0,1...|\n",
            "|1900200010264010|   0.0|    0.0|    0.0|    0.0|    0.0|    0.0|    0.0|    0.0|POLYGON ((2744230...|           (8,[],[])|\n",
            "+----------------+------+-------+-------+-------+-------+-------+-------+-------+--------------------+--------------------+\n",
            "only showing top 20 rows\n",
            "\n"
          ]
        }
      ],
      "source": [
        "from pyspark.ml.feature import VectorAssembler\n",
        "from pyspark.ml.clustering import KMeans\n",
        "\n",
        "vecAssembler = VectorAssembler(inputCols=[\"ECO1_R\", \"EDU46_R\", \"VIV19_R\", \"VIV20_R\", \"VIV23_R\", \"VIV82_R\", \"VIV83_R\", \"VIV84_R\"], outputCol=\"features\")\n",
        "BD_MZA_EEVVV_CORREGIDO_VEC = vecAssembler.transform(BD_MZA_EEVVV_CORREGIDO)\n",
        "BD_MZA_EEVVV_CORREGIDO_VEC.cache()\n",
        "BD_MZA_EEVVV_CORREGIDO_VEC.show()"
      ]
    },
    {
      "cell_type": "code",
      "execution_count": 102,
      "metadata": {
        "colab": {
          "base_uri": "https://localhost:8080/"
        },
        "id": "8U_hIPZ_bZOr",
        "outputId": "3ec101ff-733b-4598-e589-925db04363be"
      },
      "outputs": [
        {
          "output_type": "stream",
          "name": "stdout",
          "text": [
            "+----------------+------+-------+-------+-------+-------+-------+-------+-------+--------------------+--------------------+----------+\n",
            "|          CVEGEO|ECO1_R|EDU46_R|VIV19_R|VIV20_R|VIV23_R|VIV82_R|VIV83_R|VIV84_R|            geometry|            features|prediction|\n",
            "+----------------+------+-------+-------+-------+-------+-------+-------+-------+--------------------+--------------------+----------+\n",
            "|1900100010021001|  53.7|   10.6|  100.0|  100.0|  100.0|   75.0|   30.0|   40.0|POLYGON ((2659352...|[53.7,10.6,100.0,...|         3|\n",
            "|1900100010021007|  54.5|   12.2|  100.0|  100.0|  100.0|   61.9|   19.0|   19.0|POLYGON ((2659829...|[54.5,12.2,100.0,...|         0|\n",
            "|1900100010021020|   0.0|    0.0|    0.0|    0.0|    0.0|    0.0|    0.0|    0.0|POLYGON ((2659830...|           (8,[],[])|         1|\n",
            "|1900100010021037|   0.0|    0.0|    0.0|    0.0|    0.0|    0.0|    0.0|    0.0|POLYGON ((2659506...|           (8,[],[])|         1|\n",
            "|1900100010021047|  66.7|    0.0|  100.0|  100.0|  100.0|    0.0|    0.0|    0.0|POLYGON ((2659550...|(8,[0,2,3,4],[66....|         4|\n",
            "|1900100010036010|  46.2|    0.0|  100.0|  100.0|  100.0|   55.6|   33.3|    0.0|POLYGON ((2660761...|[46.2,0.0,100.0,1...|         0|\n",
            "|1900100010036012|  43.8|   10.3|  100.0|  100.0|  100.0|   43.8|    0.0|    0.0|POLYGON ((2660950...|[43.8,10.3,100.0,...|         0|\n",
            "|1900200010207030|  50.0|    0.0|  100.0|  100.0|  100.0|    0.0|    0.0|    0.0|POLYGON ((2744874...|(8,[0,2,3,4],[50....|         4|\n",
            "|1900200010211013|  30.0|    0.0|  100.0|  100.0|  100.0|    0.0|    0.0|    0.0|POLYGON ((2744393...|(8,[0,2,3,4],[30....|         4|\n",
            "|1900200010211018|   0.0|    0.0|    0.0|    0.0|    0.0|    0.0|    0.0|    0.0|POLYGON ((2744881...|           (8,[],[])|         1|\n",
            "|1900200010226018|   0.0|    0.0|    0.0|    0.0|    0.0|    0.0|    0.0|    0.0|POLYGON ((2745917...|           (8,[],[])|         1|\n",
            "|1900200010230010|  83.3|    0.0|  100.0|  100.0|  100.0|    0.0|    0.0|    0.0|POLYGON ((2744380...|(8,[0,2,3,4],[83....|         4|\n",
            "|1900200010230012|   0.0|    0.0|  100.0|  100.0|  100.0|    0.0|    0.0|    0.0|POLYGON ((2744575...|(8,[2,3,4],[100.0...|         4|\n",
            "|1900200010230026|   0.0|    0.0|    0.0|    0.0|    0.0|    0.0|    0.0|    0.0|POLYGON ((2744751...|           (8,[],[])|         1|\n",
            "|1900200010245017|  87.5|    0.0|  100.0|  100.0|  100.0|    0.0|    0.0|    0.0|POLYGON ((2745022...|(8,[0,2,3,4],[87....|         4|\n",
            "|190020001025A010|  62.5|    0.0|  100.0|  100.0|  100.0|   75.0|    0.0|    0.0|POLYGON ((2744927...|[62.5,0.0,100.0,1...|         0|\n",
            "|190020001025A020|   0.0|    0.0|    0.0|    0.0|    0.0|    0.0|    0.0|    0.0|POLYGON ((2744638...|           (8,[],[])|         1|\n",
            "|190020001025A023|  42.9|    0.0|  100.0|   75.0|   75.0|    0.0|    0.0|    0.0|POLYGON ((2744311...|(8,[0,2,3,4],[42....|         4|\n",
            "|190020001025A025|  54.5|    0.0|  100.0|  100.0|  100.0|   60.0|    0.0|    0.0|POLYGON ((2744521...|[54.5,0.0,100.0,1...|         0|\n",
            "|1900200010264010|   0.0|    0.0|    0.0|    0.0|    0.0|    0.0|    0.0|    0.0|POLYGON ((2744230...|           (8,[],[])|         1|\n",
            "+----------------+------+-------+-------+-------+-------+-------+-------+-------+--------------------+--------------------+----------+\n",
            "only showing top 20 rows\n",
            "\n"
          ]
        }
      ],
      "source": [
        "kmeans = KMeans(k=5, seed=1, maxIter=250) \n",
        "model = kmeans.fit(BD_MZA_EEVVV_CORREGIDO_VEC.select('features'))\n",
        "transformed = model.transform(BD_MZA_EEVVV_CORREGIDO_VEC)\n",
        "transformed.show()"
      ]
    },
    {
      "cell_type": "code",
      "execution_count": 103,
      "metadata": {
        "colab": {
          "base_uri": "https://localhost:8080/"
        },
        "id": "qRki0SzLeR0g",
        "outputId": "ab581ec7-5c9d-4cbc-d8e5-2ca55b0e136d"
      },
      "outputs": [
        {
          "output_type": "stream",
          "name": "stdout",
          "text": [
            "+----------+------------------+-------------------+-------------------+------------------+-------------------+-------------------+--------------------+--------------------+------+\n",
            "|prediction|  mean_econ_activa| mean_educ_superior|       mean_tv_paga|     agua_entubada|           excusado|            drenaje|      mean_streaming|    mean_videojuegos|conteo|\n",
            "+----------+------------------+-------------------+-------------------+------------------+-------------------+-------------------+--------------------+--------------------+------+\n",
            "|         1|0.7070597953866685|0.22977695875961113|0.11575268475567134|0.8087183071741756|0.10438457139226028|0.11675033360869289|0.025023829192349238|0.014653364681959715| 15737|\n",
            "|         4| 59.33060608532516|  7.918720939717756| 12.082861571090683| 98.82428419936376|  98.24367403540265|  98.94278489273195|   3.875503711558852|  2.3197161269271542| 12259|\n",
            "|         3|60.410459684517036|  37.72217182316692| 54.933064789113715| 99.77478843680181|   99.7627445670571|  99.75445128968929|     38.972635569697|  20.722747275066116| 14771|\n",
            "|         0| 60.84736298255748|  9.923402496486792| 50.129184921881745| 99.60934115896494|  99.18776969496575|  99.46535091344967|  12.685963462015415|  7.2994048111102465| 24194|\n",
            "|         2| 63.40493322702816|  75.29440900936808|  70.25655770380725| 99.62079928243973|  99.60643811042458|  99.60331871636436|   69.44282439705032|   40.75740482359959| 10034|\n",
            "+----------+------------------+-------------------+-------------------+------------------+-------------------+-------------------+--------------------+--------------------+------+\n",
            "\n"
          ]
        }
      ],
      "source": [
        "transformed.createOrReplaceTempView(\"result_kmeans\")\n",
        "clusters = spark.sql(\"\"\" select prediction, \n",
        "    mean(ECO1_R) as mean_econ_activa, \n",
        "    mean(EDU46_R) as mean_educ_superior,\n",
        "    mean(VIV82_R) as mean_tv_paga,\n",
        "    mean(VIV19_R) as agua_entubada,\n",
        "    mean(VIV20_R) as excusado,\n",
        "    mean(VIV23_R) as drenaje,\n",
        "    mean(VIV83_R) as mean_streaming,\n",
        "    mean(VIV84_R) as mean_videojuegos,\n",
        "    count(*) as conteo\n",
        "from result_kmeans group by prediction order by mean_econ_activa\"\"\")\n",
        "\n",
        "clusters.show()"
      ]
    },
    {
      "cell_type": "code",
      "execution_count": 104,
      "metadata": {
        "id": "aW-4GNPWg4v0"
      },
      "outputs": [],
      "source": [
        "df_clusters = clusters.toPandas()"
      ]
    },
    {
      "cell_type": "code",
      "execution_count": 105,
      "metadata": {
        "colab": {
          "base_uri": "https://localhost:8080/",
          "height": 270
        },
        "id": "S7ScqcZWg8xN",
        "outputId": "64948397-d342-4602-ccb8-99843f68da6a"
      },
      "outputs": [
        {
          "output_type": "execute_result",
          "data": {
            "text/plain": [
              "   prediction  mean_econ_activa  mean_educ_superior  mean_tv_paga  \\\n",
              "0           1          0.707060            0.229777      0.115753   \n",
              "1           4         59.330606            7.918721     12.082862   \n",
              "2           3         60.410460           37.722172     54.933065   \n",
              "3           0         60.847363            9.923402     50.129185   \n",
              "4           2         63.404933           75.294409     70.256558   \n",
              "\n",
              "   agua_entubada   excusado    drenaje  mean_streaming  mean_videojuegos  \\\n",
              "0       0.808718   0.104385   0.116750        0.025024          0.014653   \n",
              "1      98.824284  98.243674  98.942785        3.875504          2.319716   \n",
              "2      99.774788  99.762745  99.754451       38.972636         20.722747   \n",
              "3      99.609341  99.187770  99.465351       12.685963          7.299405   \n",
              "4      99.620799  99.606438  99.603319       69.442824         40.757405   \n",
              "\n",
              "   conteo  \n",
              "0   15737  \n",
              "1   12259  \n",
              "2   14771  \n",
              "3   24194  \n",
              "4   10034  "
            ],
            "text/html": [
              "\n",
              "  <div id=\"df-1e3bb03f-9779-445e-94c5-09eedb154e73\">\n",
              "    <div class=\"colab-df-container\">\n",
              "      <div>\n",
              "<style scoped>\n",
              "    .dataframe tbody tr th:only-of-type {\n",
              "        vertical-align: middle;\n",
              "    }\n",
              "\n",
              "    .dataframe tbody tr th {\n",
              "        vertical-align: top;\n",
              "    }\n",
              "\n",
              "    .dataframe thead th {\n",
              "        text-align: right;\n",
              "    }\n",
              "</style>\n",
              "<table border=\"1\" class=\"dataframe\">\n",
              "  <thead>\n",
              "    <tr style=\"text-align: right;\">\n",
              "      <th></th>\n",
              "      <th>prediction</th>\n",
              "      <th>mean_econ_activa</th>\n",
              "      <th>mean_educ_superior</th>\n",
              "      <th>mean_tv_paga</th>\n",
              "      <th>agua_entubada</th>\n",
              "      <th>excusado</th>\n",
              "      <th>drenaje</th>\n",
              "      <th>mean_streaming</th>\n",
              "      <th>mean_videojuegos</th>\n",
              "      <th>conteo</th>\n",
              "    </tr>\n",
              "  </thead>\n",
              "  <tbody>\n",
              "    <tr>\n",
              "      <th>0</th>\n",
              "      <td>1</td>\n",
              "      <td>0.707060</td>\n",
              "      <td>0.229777</td>\n",
              "      <td>0.115753</td>\n",
              "      <td>0.808718</td>\n",
              "      <td>0.104385</td>\n",
              "      <td>0.116750</td>\n",
              "      <td>0.025024</td>\n",
              "      <td>0.014653</td>\n",
              "      <td>15737</td>\n",
              "    </tr>\n",
              "    <tr>\n",
              "      <th>1</th>\n",
              "      <td>4</td>\n",
              "      <td>59.330606</td>\n",
              "      <td>7.918721</td>\n",
              "      <td>12.082862</td>\n",
              "      <td>98.824284</td>\n",
              "      <td>98.243674</td>\n",
              "      <td>98.942785</td>\n",
              "      <td>3.875504</td>\n",
              "      <td>2.319716</td>\n",
              "      <td>12259</td>\n",
              "    </tr>\n",
              "    <tr>\n",
              "      <th>2</th>\n",
              "      <td>3</td>\n",
              "      <td>60.410460</td>\n",
              "      <td>37.722172</td>\n",
              "      <td>54.933065</td>\n",
              "      <td>99.774788</td>\n",
              "      <td>99.762745</td>\n",
              "      <td>99.754451</td>\n",
              "      <td>38.972636</td>\n",
              "      <td>20.722747</td>\n",
              "      <td>14771</td>\n",
              "    </tr>\n",
              "    <tr>\n",
              "      <th>3</th>\n",
              "      <td>0</td>\n",
              "      <td>60.847363</td>\n",
              "      <td>9.923402</td>\n",
              "      <td>50.129185</td>\n",
              "      <td>99.609341</td>\n",
              "      <td>99.187770</td>\n",
              "      <td>99.465351</td>\n",
              "      <td>12.685963</td>\n",
              "      <td>7.299405</td>\n",
              "      <td>24194</td>\n",
              "    </tr>\n",
              "    <tr>\n",
              "      <th>4</th>\n",
              "      <td>2</td>\n",
              "      <td>63.404933</td>\n",
              "      <td>75.294409</td>\n",
              "      <td>70.256558</td>\n",
              "      <td>99.620799</td>\n",
              "      <td>99.606438</td>\n",
              "      <td>99.603319</td>\n",
              "      <td>69.442824</td>\n",
              "      <td>40.757405</td>\n",
              "      <td>10034</td>\n",
              "    </tr>\n",
              "  </tbody>\n",
              "</table>\n",
              "</div>\n",
              "      <button class=\"colab-df-convert\" onclick=\"convertToInteractive('df-1e3bb03f-9779-445e-94c5-09eedb154e73')\"\n",
              "              title=\"Convert this dataframe to an interactive table.\"\n",
              "              style=\"display:none;\">\n",
              "        \n",
              "  <svg xmlns=\"http://www.w3.org/2000/svg\" height=\"24px\"viewBox=\"0 0 24 24\"\n",
              "       width=\"24px\">\n",
              "    <path d=\"M0 0h24v24H0V0z\" fill=\"none\"/>\n",
              "    <path d=\"M18.56 5.44l.94 2.06.94-2.06 2.06-.94-2.06-.94-.94-2.06-.94 2.06-2.06.94zm-11 1L8.5 8.5l.94-2.06 2.06-.94-2.06-.94L8.5 2.5l-.94 2.06-2.06.94zm10 10l.94 2.06.94-2.06 2.06-.94-2.06-.94-.94-2.06-.94 2.06-2.06.94z\"/><path d=\"M17.41 7.96l-1.37-1.37c-.4-.4-.92-.59-1.43-.59-.52 0-1.04.2-1.43.59L10.3 9.45l-7.72 7.72c-.78.78-.78 2.05 0 2.83L4 21.41c.39.39.9.59 1.41.59.51 0 1.02-.2 1.41-.59l7.78-7.78 2.81-2.81c.8-.78.8-2.07 0-2.86zM5.41 20L4 18.59l7.72-7.72 1.47 1.35L5.41 20z\"/>\n",
              "  </svg>\n",
              "      </button>\n",
              "      \n",
              "  <style>\n",
              "    .colab-df-container {\n",
              "      display:flex;\n",
              "      flex-wrap:wrap;\n",
              "      gap: 12px;\n",
              "    }\n",
              "\n",
              "    .colab-df-convert {\n",
              "      background-color: #E8F0FE;\n",
              "      border: none;\n",
              "      border-radius: 50%;\n",
              "      cursor: pointer;\n",
              "      display: none;\n",
              "      fill: #1967D2;\n",
              "      height: 32px;\n",
              "      padding: 0 0 0 0;\n",
              "      width: 32px;\n",
              "    }\n",
              "\n",
              "    .colab-df-convert:hover {\n",
              "      background-color: #E2EBFA;\n",
              "      box-shadow: 0px 1px 2px rgba(60, 64, 67, 0.3), 0px 1px 3px 1px rgba(60, 64, 67, 0.15);\n",
              "      fill: #174EA6;\n",
              "    }\n",
              "\n",
              "    [theme=dark] .colab-df-convert {\n",
              "      background-color: #3B4455;\n",
              "      fill: #D2E3FC;\n",
              "    }\n",
              "\n",
              "    [theme=dark] .colab-df-convert:hover {\n",
              "      background-color: #434B5C;\n",
              "      box-shadow: 0px 1px 3px 1px rgba(0, 0, 0, 0.15);\n",
              "      filter: drop-shadow(0px 1px 2px rgba(0, 0, 0, 0.3));\n",
              "      fill: #FFFFFF;\n",
              "    }\n",
              "  </style>\n",
              "\n",
              "      <script>\n",
              "        const buttonEl =\n",
              "          document.querySelector('#df-1e3bb03f-9779-445e-94c5-09eedb154e73 button.colab-df-convert');\n",
              "        buttonEl.style.display =\n",
              "          google.colab.kernel.accessAllowed ? 'block' : 'none';\n",
              "\n",
              "        async function convertToInteractive(key) {\n",
              "          const element = document.querySelector('#df-1e3bb03f-9779-445e-94c5-09eedb154e73');\n",
              "          const dataTable =\n",
              "            await google.colab.kernel.invokeFunction('convertToInteractive',\n",
              "                                                     [key], {});\n",
              "          if (!dataTable) return;\n",
              "\n",
              "          const docLinkHtml = 'Like what you see? Visit the ' +\n",
              "            '<a target=\"_blank\" href=https://colab.research.google.com/notebooks/data_table.ipynb>data table notebook</a>'\n",
              "            + ' to learn more about interactive tables.';\n",
              "          element.innerHTML = '';\n",
              "          dataTable['output_type'] = 'display_data';\n",
              "          await google.colab.output.renderOutput(dataTable, element);\n",
              "          const docLink = document.createElement('div');\n",
              "          docLink.innerHTML = docLinkHtml;\n",
              "          element.appendChild(docLink);\n",
              "        }\n",
              "      </script>\n",
              "    </div>\n",
              "  </div>\n",
              "  "
            ]
          },
          "metadata": {},
          "execution_count": 105
        }
      ],
      "source": [
        "df_clusters"
      ]
    },
    {
      "cell_type": "code",
      "execution_count": 106,
      "metadata": {
        "id": "U12mjX-9g1e8"
      },
      "outputs": [],
      "source": [
        "import numpy as np\n",
        "import matplotlib.pyplot as plt"
      ]
    },
    {
      "cell_type": "code",
      "execution_count": 107,
      "metadata": {
        "colab": {
          "base_uri": "https://localhost:8080/",
          "height": 617
        },
        "id": "5hoAkKUlhBH5",
        "outputId": "c15a51d8-f5b0-436b-a27b-4884f96f546a"
      },
      "outputs": [
        {
          "output_type": "display_data",
          "data": {
            "text/plain": [
              "<Figure size 720x720 with 1 Axes>"
            ],
            "image/png": "[encoded data removed]"
          },
          "metadata": {
            "needs_background": "light"
          }
        }
      ],
      "source": [
        "categories = df_clusters.columns[1:-1].values\n",
        "cluster_0 = df_clusters.where(df_clusters.prediction==0).dropna().values[0][1:-1]\n",
        "cluster_1 = df_clusters.where(df_clusters.prediction==1).dropna().values[0][1:-1]\n",
        "cluster_2 = df_clusters.where(df_clusters.prediction==2).dropna().values[0][1:-1]\n",
        "cluster_3 = df_clusters.where(df_clusters.prediction==3).dropna().values[0][1:-1]\n",
        "cluster_4 = df_clusters.where(df_clusters.prediction==4).dropna().values[0][1:-1]\n",
        "\n",
        "cluster_0 = [*cluster_0,cluster_0[0]]\n",
        "cluster_1 = [*cluster_1,cluster_1[0]]\n",
        "cluster_2 = [*cluster_2,cluster_2[0]]\n",
        "cluster_3 = [*cluster_3,cluster_3[0]]\n",
        "cluster_4 = [*cluster_4,cluster_4[0]]\n",
        "\n",
        "label_loc = np.linspace(start=0, stop=2 * np.pi, num=len(cluster_0))\n",
        "\n",
        "plt.figure(figsize=(10, 10))\n",
        "plt.subplot(polar=True)\n",
        "plt.plot(label_loc, cluster_0, label='Cluster 0')\n",
        "plt.plot(label_loc, cluster_1, label='Cluster 1')\n",
        "plt.plot(label_loc, cluster_2, label='Cluster 2')\n",
        "plt.plot(label_loc, cluster_3, label='Cluster 3')\n",
        "plt.plot(label_loc, cluster_4, label='Cluster 4')\n",
        "plt.title('Comparacion de clusters', size=20)\n",
        "lines, labels = plt.thetagrids(np.degrees(label_loc), labels=categories)\n",
        "plt.legend()\n",
        "plt.show()"
      ]
    },
    {
      "cell_type": "markdown",
      "metadata": {
        "id": "Ont_Pho9YRHV"
      },
      "source": [
        "FIN."
      ]
    }
  ],
  "metadata": {
    "colab": {
      "collapsed_sections": [],
      "provenance": []
    },
    "kernelspec": {
      "display_name": "Python 3",
      "name": "python3"
    },
    "language_info": {
      "name": "python"
    }
  },
  "nbformat": 4,
  "nbformat_minor": 0
}